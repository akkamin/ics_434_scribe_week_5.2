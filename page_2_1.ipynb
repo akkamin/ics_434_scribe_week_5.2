{
 "cells": [
  {
   "cell_type": "code",
   "execution_count": 1,
   "metadata": {
    "slideshow": {
     "slide_type": "skip"
    }
   },
   "outputs": [],
   "source": [
    "import pandas as pd\n",
    "import matplotlib.pyplot as plt\n",
    "import numpy as np\n",
    "%matplotlib inline"
   ]
  },
  {
   "cell_type": "code",
   "execution_count": 6,
   "metadata": {
    "scrolled": true
   },
   "outputs": [
    {
     "data": {
      "text/plain": [
       "22"
      ]
     },
     "execution_count": 6,
     "metadata": {},
     "output_type": "execute_result"
    }
   ],
   "source": [
    "np.random.binomial(30, 0.7)"
   ]
  },
  {
   "cell_type": "markdown",
   "metadata": {
    "slideshow": {
     "slide_type": "slide"
    }
   },
   "source": [
    "* what the above line of code is doing\n",
    "    * We conduct an experiment where we record the number of successful events given only two possible events (ie heads vs tails) and having a set probability in which a successful event occures. \n",
    "    * If the experiment outlined above is conducted many times, a binomial distribution can be produced in which the x-axis represents the total number of successful events and the y-axis represents the probability of that number of events occuring.  \n",
    "    * Thus, the above line of code outputs the total number of succesful events occuring for a point from the binomial distribution produced when the number of trials is 30 and the probability of success is 0.7. The binomial distribution is illustrated below.\n",
    "\n",
    "<img src=\"https://en.wikipedia.org/wiki/Binomial_distribution#/media/File:Binomial_distribution_pmf.svg\">\n"
   ]
  },
  {
   "cell_type": "markdown",
   "metadata": {
    "slideshow": {
     "slide_type": "slide"
    }
   },
   "source": [
    "### Bayesian Parameter Estimation\n",
    "\n",
    "* The generative model for one person and one website example can be described with the following illustration\n",
    "\n",
    "  * Suppose that a user is equally likely to signup or forgo signing up\n",
    " \n",
    "\n",
    "![](media/chapter1/ab_user.jpg)\n",
    "\n",
    "\n",
    "* Say we are selecting 8 individuals to try one version A, what does the generative process look like?"
   ]
  },
  {
   "cell_type": "code",
   "execution_count": 19,
   "metadata": {
    "cellView": "form",
    "colab": {
     "base_uri": "https://localhost:8080/",
     "height": 445
    },
    "colab_type": "code",
    "id": "bAL20h-or_eb",
    "outputId": "4ebf6c3d-6e16-42ae-a235-5b8093bea2b3",
    "slideshow": {
     "slide_type": "slide"
    }
   },
   "outputs": [
    {
     "data": {
      "application/vnd.jupyter.widget-view+json": {
       "model_id": "1f82a987423042249cfcf7cf4b40035b",
       "version_major": 2,
       "version_minor": 0
      },
      "text/plain": [
       "Button(description='Run the experiment!', style=ButtonStyle())"
      ]
     },
     "metadata": {},
     "output_type": "display_data"
    },
    {
     "data": {
      "application/vnd.jupyter.widget-view+json": {
       "model_id": "a477f0a5e39d4a49a57f23f766b90200",
       "version_major": 2,
       "version_minor": 0
      },
      "text/plain": [
       "Output()"
      ]
     },
     "metadata": {},
     "output_type": "display_data"
    }
   ],
   "source": [
    "# @hidden_cell\n",
    "#@title\n",
    "#this will be hidden\n",
    "\n",
    "from IPython.display import HTML, display\n",
    "from ipywidgets import widgets, Output\n",
    "import matplotlib.pyplot as plt\n",
    "import numpy as np\n",
    "import scipy.stats as st\n",
    "\n",
    "p=0.5\n",
    "\n",
    "button = widgets.Button(description = \"Run the experiment!\")\n",
    "display(button)\n",
    "out=Output()\n",
    "display(out)\n",
    "\n",
    "green_link='images/green.jpg'\n",
    "red_link='images/red.jpg'\n",
    "black_link='images/black.jpg'\n",
    "arrow_link='images/arrow.jpg'\n",
    "green_guy=\"<td><img src=\"+green_link+\"></td>\"\n",
    "red_guy=\"<td><img src=\"+red_link+\"></td>\"\n",
    "black_guy=\"<td><img src=\"+black_link+\"></td>\"\n",
    "arrow=\"<td><img src=\"+arrow_link+\"></td>\"\n",
    "\n",
    "\n",
    "\n",
    "def on_button_clicked(b):\n",
    "    number_guys = 0\n",
    "    test=st.bernoulli.rvs(p, size=1)\n",
    "    guys=\"\"\n",
    "    for item in test:\n",
    "      if item==1:\n",
    "        guys=guys+green_guy\n",
    "      else:\n",
    "        guys=guys+red_guy\n",
    "      number_guys+=item\n",
    "    \n",
    "    out.clear_output()\n",
    "    with out:\n",
    "        display(HTML(\"<table><tr><td>\"+black_guy+\"</td><td>\"+arrow+\"</td><td>\"+guys+\"</td></tr></table>\"))\n",
    "\n",
    "\n",
    "button.on_click(on_button_clicked)"
   ]
  },
  {
   "cell_type": "code",
   "execution_count": 18,
   "metadata": {
    "cellView": "form",
    "colab": {
     "base_uri": "https://localhost:8080/",
     "height": 520
    },
    "colab_type": "code",
    "id": "ruuj6PmNTmvZ",
    "outputId": "3659593c-3f1a-45f8-dedf-62bf6f9a4bde",
    "slideshow": {
     "slide_type": "slide"
    }
   },
   "outputs": [
    {
     "data": {
      "application/vnd.jupyter.widget-view+json": {
       "model_id": "16485f9a5b564fa5b076f6501eacaa96",
       "version_major": 2,
       "version_minor": 0
      },
      "text/plain": [
       "Button(description='Run the experiment!', style=ButtonStyle())"
      ]
     },
     "metadata": {},
     "output_type": "display_data"
    },
    {
     "data": {
      "application/vnd.jupyter.widget-view+json": {
       "model_id": "0182d39ebd3441168f16cca4cf68c4be",
       "version_major": 2,
       "version_minor": 0
      },
      "text/plain": [
       "Output()"
      ]
     },
     "metadata": {},
     "output_type": "display_data"
    }
   ],
   "source": [
    "# @hidden_cell\n",
    "#@title\n",
    "#this will be hidden\n",
    "import matplotlib.pyplot as plt\n",
    "import numpy as np\n",
    "import scipy.stats as st\n",
    "from ipywidgets import widgets, Output\n",
    "from IPython.display import HTML, display\n",
    "\n",
    "button = widgets.Button(description = \"Run the experiment!\")\n",
    "display(button)\n",
    "out=Output()\n",
    "display(out)\n",
    "\n",
    "dist_values=[0]*9\n",
    "\n",
    "green_link='images/green.jpg'\n",
    "red_link='images/red.jpg'\n",
    "green_guy=\"<td><img src=\"+green_link+\"></td>\"\n",
    "red_guy=\"<td><img src=\"+red_link+\"></td>\"\n",
    "\n",
    "def on_button_clicked(b):\n",
    "    p=0.5\n",
    "    test=st.bernoulli.rvs(p, size=8)\n",
    "    guys=\"\"\n",
    "    number_guys = 0\n",
    "    for item in test:\n",
    "      if item==1:\n",
    "        guys=guys+green_guy\n",
    "      else:\n",
    "        guys=guys+red_guy\n",
    "      number_guys+=item\n",
    "    out.clear_output()\n",
    "    dist_values[number_guys]+=1\n",
    "    fig = plt.figure(figsize=(14,5))\n",
    "    plt.style.use('seaborn-darkgrid')\n",
    "    x = np.arange(0, 9)\n",
    "    ns = [8]\n",
    "    ps = [p]\n",
    "    for n, p in zip(ns, ps):\n",
    "        plt.bar(x, dist_values)\n",
    "    plt.bar(x[number_guys],dist_values[number_guys],color='green')\n",
    "    plt.xlabel('number of sign ups', fontsize=14)\n",
    "    plt.ylabel('counts', fontsize=14)\n",
    "    plt.xticks(range(0,9))\n",
    "    with out:\n",
    "        display(HTML(\"<table><tr>\"+guys+\"</tr></table>\"))\n",
    "        plt.show()\n",
    "#plt.yticks([]);\n",
    "#plt.legend(loc=1)\n",
    "\n",
    "\n",
    "button.on_click(on_button_clicked)"
   ]
  },
  {
   "cell_type": "markdown",
   "metadata": {
    "slideshow": {
     "slide_type": "slide"
    }
   },
   "source": [
    "### The Long Run Distribution\n",
    "\n",
    "* If one repeats the experiment many times, the graph will represent the binomial distribution\n",
    "\n",
    "  *  The distribution is parameterized by $n=8$ and \"p=0.5\"\n",
    "\n",
    "  *  What is being generated here is what is being selected from in the first example with the code `np.random.binomial(30, 0.7).` \n",
    "  \n",
    "  *  Every time the button is clicked, `test=st.bernoulli.rvs(p, size=8)` creates an array of 8 elements where each element is the outcome of a Bernoulli distribution. In this case each Bernoulli distribution was whether or not a user signed up, with the probability of a user signing up being 0.5. Thus 8 outcomes were independently generated to model the behavior of 8 pretend users. If each result is added to the previous results eventually a binomial distribution will be produced.  \n",
    "      \n",
    "<img src=\"images/longrun.png\">\n"
   ]
  },
  {
   "cell_type": "markdown",
   "metadata": {
    "colab_type": "text",
    "id": "aqB7zpc358xw",
    "slideshow": {
     "slide_type": "slide"
    }
   },
   "source": [
    "### Observations\n",
    "\n",
    "* We don't know version `A` and `B` signup rates $p_1$ and $p_2$ a priori \n",
    "\n",
    "\n",
    "  \n",
    "* Clearly, we can use the maximum likelihood (ml) to estimate the parmeters\n",
    "\n",
    "* However: \n",
    "  * The sample is small and random events can greatly skew estimation\n",
    "  * ml given a 95% confidence that may be large\n",
    "  * Confidence interval tells us where the interval may be with 95% confidence\n",
    "    * What we are often interested in is the probability of individual values\n",
    "\n",
    "  * There is no way to encode our belief about the param\n",
    "    * We know param should be ~0.9 because other reserach showed that\n",
    "    * How can we incorporate that in esimating the param? \n",
    "\n",
    "* Our approach need to take that into consideration\n"
   ]
  },
  {
   "cell_type": "code",
   "execution_count": 9,
   "metadata": {
    "slideshow": {
     "slide_type": "slide"
    }
   },
   "outputs": [
    {
     "data": {
      "text/plain": [
       "[True, True, True, True, True, False, False, False]"
      ]
     },
     "execution_count": 9,
     "metadata": {},
     "output_type": "execute_result"
    }
   ],
   "source": [
    "# Suppose outcomes are \n",
    "outcomes = [True] * 5 + [False] * 3\n",
    "outcomes"
   ]
  },
  {
   "cell_type": "code",
   "execution_count": 8,
   "metadata": {
    "slideshow": {
     "slide_type": "slide"
    }
   },
   "outputs": [
    {
     "data": {
      "text/plain": [
       "0.75"
      ]
     },
     "execution_count": 8,
     "metadata": {},
     "output_type": "execute_result"
    }
   ],
   "source": [
    "bootstrap = np.random.choice(outcomes, size=8, replace=True)\n",
    "bootstrap_proportion = sum(bootstrap)/len(bootstrap)\n",
    "bootstrap_proportion"
   ]
  },
  {
   "cell_type": "markdown",
   "metadata": {
    "slideshow": {
     "slide_type": "slide"
    }
   },
   "source": [
    "* what `np.random.choice` is doing is producing a new random sample from an initial sample (the outcomes array). By setting the size equal to 8, 8 samples are randomly chosen from the outcomes array. Additionally, because replace is true, some samples may be chosen more than once and other samples may not be chosen at all. A fourth parameter p also exists, in which, each value in the initial sample (the outcomes array) can be assigned a certain probablity. If the fourth parameter is not set, it is assumed that each value in the initial sample has an equal probability of being chosen or more formally a uniform random distribution exists over all values in the initial sample.\n",
    "\n",
    "* the full `np.random.choice` function is:\n",
    "    * `numpy.random.choice(a, size=None, replace=True, p=None)`\n",
    "\n",
    "* in this example, since boolean values are used in which true is 1 and false is 0, the entire array can be summed up to give the total number of true values present in the new random sample. By dividing this by the total number of values in the new random sample (which is the length of the new random sample array), the proportion of true values randomly sampled can be obtained. \n",
    "\n",
    "\n",
    "\n"
   ]
  },
  {
   "cell_type": "code",
   "execution_count": 24,
   "metadata": {
    "slideshow": {
     "slide_type": "slide"
    }
   },
   "outputs": [
    {
     "data": {
      "text/plain": [
       "array([0.25 , 0.875])"
      ]
     },
     "execution_count": 24,
     "metadata": {},
     "output_type": "execute_result"
    }
   ],
   "source": [
    "bootstrap_proportions = []\n",
    "for _ in range(10000):\n",
    "    bootstrap = np.random.choice(outcomes, size=8, replace=True)\n",
    "    bootstrap_proportion = sum(bootstrap)/len(bootstrap)\n",
    "    bootstrap_proportions.append(bootstrap_proportion)   \n",
    "np.percentile(bootstrap_proportions, (2.5, 97.5))\n"
   ]
  },
  {
   "cell_type": "markdown",
   "metadata": {},
   "source": [
    "* at the 2.5 percentile, the bootstrap proportion is 0.25. In other words, this means that if we had 1000 bootstrap proportion values, then the lowest 25 values will all have a bootstrap proportion no greater than 0.25. Similarly at the 97.5 percentile, the bootstrap proportion is 0.875. Which would mean that if we had 1000 bootstrap proportion values, then the lowest 975 values would have a bootstrap proportion no greater than 0.875. \n",
    "\n",
    "* In the `for _ in range(10000)` section, the underscore is just there to indicate that the counter variable is being \"thrown away\", since it is not being used. it could just have easily been written as: `for i in range(10000)`\n",
    "\n",
    "* The `np.percentile` computes percentiles of the array given as the first argument for percentiles specified in the second argument.`bootstrap_proportions` is the array and `(2.5, 97.5)` is the two percentiles it calculates values for. "
   ]
  },
  {
   "cell_type": "markdown",
   "metadata": {
    "slideshow": {
     "slide_type": "slide"
    }
   },
   "source": [
    "### Running the simulation Backwards\n",
    "\n",
    "* Rather than generate random outcomes of the experiment, we record random parameters that could have yielded the observed results\n",
    "\n",
    "* Which params could have generated 5 signups in 8 trials?\n",
    "    * Recall that $p$ is continuous probability between 0 and 1\n"
   ]
  },
  {
   "cell_type": "markdown",
   "metadata": {},
   "source": [
    "* given that p is continuous between 0 and 1, recording random parameters that could have yielded observed results would result in a probability density function. Since there are no discrete probability values, the distribution would show the \"density\" around discrete points. "
   ]
  },
  {
   "cell_type": "markdown",
   "metadata": {},
   "source": [
    "https://docs.scipy.org/doc/numpy/reference/generated/numpy.random.choice.html\n",
    "https://docs.scipy.org/doc/numpy/reference/generated/numpy.percentile.html\n",
    "https://www.burns-stat.com/documents/tutorials/the-statistical-bootstrap-and-other-resampling-methods-2/#bootstrap\n",
    "http://www.learningaboutelectronics.com/Articles/How-to-get-percentiles-in-Python-with-numpy.php\n",
    "https://www.tutorialspoint.com/python/python_bernoulli_distribution.htm\n",
    "https://docs.scipy.org/doc/scipy/reference/generated/scipy.stats.bernoulli.html\n",
    "    "
   ]
  },
  {
   "cell_type": "markdown",
   "metadata": {
    "colab_type": "text",
    "id": "feFOS2XKOR3e",
    "slideshow": {
     "slide_type": "slide"
    }
   },
   "source": [
    "### Bayesian Inference Using Rejection Sampling \n",
    "\n",
    "The scenarios that we have observed so far, for **Bayesian inference** have only required expectation values for some normal distribution. For such tasks, we can perform implicit posterior inference using Monte Carlo methods. These randomly generated values simulate samples from the target distribution, which can then be used for estimating expectations. However, we turn to rejection sampling (another simple monte carlo method), to sample paramaters from some distributions and sort through them by deciding whether to accept or reject them based on a criteria. \n",
    "\n",
    "\n",
    "Using **rejection sampling** we can answer questions such as:\n",
    "\n",
    "\n",
    "*  What is the most likely value of parameter $p_1$ for our previous experiment (A)?\n",
    "\n",
    "*  What is the most likely the probability of hitting the center of a dart board?\n",
    "\n",
    "\n",
    "\n",
    "\n",
    "\n"
   ]
  },
  {
   "cell_type": "markdown",
   "metadata": {
    "slideshow": {
     "slide_type": "slide"
    }
   },
   "source": [
    "### Rejection Sampling \n",
    "\n",
    "\n",
    "To understand the motivation behind **rejection sampling**, imagine graphing the density function of a random variable onto a large rectangular dart board. Let this function represent the previous games distribution of darts on the board. Now, you throw darts at the board, assuming they are uniformly distributed. Now remove all of the darts that are outside the area under the curve. The remaining darts will be distributed under the curve based on the previous distribution. This allows us to investigate observations from a distribution by retaining values that only agree with our data. \n",
    "\n",
    "### Advantages of Rejection Sampling\n",
    "\n",
    "**Rejection sampling** can be far more efficent than native methods in some situations. If the target distribution is easily simulated then using previous methods will work just as efficently. However, if the target distribution is extremely large, the number of iterations for sampling may approach infinity. **Rejection sampling** can reduce the amount of computation by limiting the data to some criteria. \n",
    "\n",
    "### Limitations of Rejection Sampling\n",
    "\n",
    "If the proposed distribution is very different from the target distribution or we want to sample from a distribution f(x) that is difficult or impossible to sample from directly, we may have to reject a large number of points before a good sample size of the target distribution can be established. It may also be difficult to find such g(x) that satisfies all the conditions of the procedure.\n"
   ]
  },
  {
   "cell_type": "markdown",
   "metadata": {},
   "source": [
    "### Example 1\n",
    "\n",
    "As stated above, we use rejection sampling to generate observations from some target distribution.\n",
    "\n",
    "As an example, lets say we would like to sample a normal distribution with domain (X) ranging from -3 to 3. If we take the positions of each point we know some will fall within our target distribution, f(x). The only values accepted are those that fall within the target.\n",
    "\n",
    "We can do this by:\n",
    "\n",
    "1. Assume we want to sample random numbers from a trucated normal distribution\n",
    "\n",
    "    * The domain is [-3, 3] and we assume the region we are looking at is boud between (-3,0) and (3, 0.5).\n",
    "    \n",
    "    \n",
    "2. Plot x and y coordinates of random numbers within the given region \n",
    "\n",
    "    * Some numbers will fall within our target distribution (green) while others will not (red)\n",
    "    \n",
    "    \n",
    "3. Check if y $\\le$ P(X=x)\n",
    "\n",
    "    * i.e. if our random point is (-1, 0.15) we know that P(X=-1) = ~0.24. \n",
    "     Since 0.15 $\\le$ 0.24, that point is accepted\n",
    "     \n",
    "     \n",
    "4. Repeat this process n times\n",
    "\n",
    "This is one way of using **rejection sampling** to make observations about a distribution."
   ]
  },
  {
   "cell_type": "code",
   "execution_count": 3,
   "metadata": {},
   "outputs": [
    {
     "data": {
      "text/plain": [
       "[<matplotlib.lines.Line2D at 0x7f6ab8208128>]"
      ]
     },
     "execution_count": 3,
     "metadata": {},
     "output_type": "execute_result"
    },
    {
     "data": {
      "image/png": "[encoded data removed]",
      "text/plain": [
       "<Figure size 432x288 with 1 Axes>"
      ]
     },
     "metadata": {
      "needs_background": "light"
     },
     "output_type": "display_data"
    }
   ],
   "source": [
    "import random\n",
    "import numpy as np\n",
    "import matplotlib.pyplot as plt\n",
    "\n",
    "xdomain = [-3, 3]     #Domain of X, our target distribution.\n",
    " \n",
    "def pdf(x):     #Our arbitrary probibility density function (f(x))\n",
    "\n",
    "    return truncnorm.pdf(x, xdomain[0], xdomain[1])\n",
    "\n",
    "def random_point_within_domain():    #Random distribution of points within our xdomain (i.e. xdomain[0]=-3, xdomain[1]=3)   \n",
    "    x = random.uniform(xdomain[0], xdomain[1])\n",
    "    y = random.uniform(0, 0.5)\n",
    "    return (x,y)\n",
    " \n",
    "n = 1000     #Number of sample points\n",
    " \n",
    "accepted = []    #Array 1 to capture accepted values\n",
    "rejected = []    #Array 2 to capture rejected values\n",
    "\n",
    "while len(accepted) < n:  #Run simulation until we reach a valid number of points (defiend by n).\n",
    "    \n",
    "    x, y = random_point_within_domain()    #Get random point\n",
    "    \n",
    "    if y < pdf(x):    #If y is below blue curve then accept it\n",
    "       accepted.append((x, y))\n",
    "    \n",
    "    else:     #If y is below the curve then reject it.\n",
    "       rejected.append((x, y))\n",
    "    \n",
    "plt.plot([x[0] for x in accepted], [x[1] for x in accepted] , 'ro', color='green') # plot accepted points\n",
    "plt.plot([x[0] for x in rejected], [x[1] for x in rejected] , 'ro', color='red') # plot rejected points\n"
   ]
  },
  {
   "cell_type": "markdown",
   "metadata": {},
   "source": [
    "### Result of Rejection Sampling\n",
    "\n",
    "The data obtained from **rejection sampling** is all within the target.  Further, the new set of accepted data is in agreement with our previous hypothesis."
   ]
  },
  {
   "cell_type": "markdown",
   "metadata": {},
   "source": [
    "### Example 2\n",
    "\n",
    "\n",
    "This time, we would like to know what the most likely value of parameter  𝑝1  for our previous experiment (A) was.\n",
    "\n",
    "1.   Sample a parameter value from the set of possible values of $p_A$\n",
    "  * this is called a prior and represents our prior belief or $p_A$\n",
    "    * In our example, we believe that $p_1$ is any possible value in $[0, 1]$ conitnuum\n",
    "   \n",
    "2.   Generate an outcome, given that parameter value (in our example, run the test that is described by binomial distribution with parameter $p_1$ and number of people $8$)\n",
    "\n",
    "3.  *   If the generated outcome is the observed data, record the value of the parameter $p_1$ as a possible value that can generate the observed results\n",
    "    *   If the generated outcome is not the observed data, ignore (or reject) the parameter $p_1$\n",
    "4.   Repeat the procedure n times.\n"
   ]
  },
  {
   "cell_type": "code",
   "execution_count": 9,
   "metadata": {
    "colab": {
     "base_uri": "https://localhost:8080/",
     "height": 366
    },
    "colab_type": "code",
    "id": "7m4d4ALBl_Ti",
    "outputId": "12ead134-432c-49a5-d130-c23de14579d4",
    "scrolled": true,
    "slideshow": {
     "slide_type": "slide"
    }
   },
   "outputs": [
    {
     "data": {
      "image/png": "[encoded data removed]",
      "text/plain": [
       "<Figure size 864x576 with 1 Axes>"
      ]
     },
     "metadata": {
      "needs_background": "light"
     },
     "output_type": "display_data"
    }
   ],
   "source": [
    "# import packages\n",
    "import numpy as np\n",
    "import matplotlib.pyplot as plt\n",
    "\n",
    "# Version A\n",
    "n_A = 8        # number of people Version A was tested on\n",
    "obs_A = 5      # observed number of sign ups for Version A\n",
    "p_A_recorded = []      #array to capture recorded obs.\n",
    "\n",
    "n = 100000 #number of smample points \n",
    "\n",
    "for _ in  range(n):\n",
    "  p_A = np.random.uniform(0, 1)    # Sample parameter values p_A\n",
    "\n",
    "  v_A = np.random.binomial(n_A, p_A)     # For p_A generate an outcome from the binomal distribution \n",
    "  \n",
    "  if v_A == obs_A:     # Compare generated outcomes to the observed data\n",
    "    p_A_recorded.append(p_A)\n",
    "\n",
    "    \n",
    "#Plot figure\n",
    "    \n",
    "fig = plt.figure(figsize = (12,8)) \n",
    "\n",
    "plt.xlim(0, 1)\n",
    "\n",
    "plt.hist(p_A_recorded,  bins = 20, alpha = 0.75, label = \"Version A\", color = \"#A60628\", normed = False, edgecolor='black', linewidth=1.2)\n",
    "\n",
    "plt.title(\"Number of Recorded Values for Version A vs Version B\")\n",
    "\n",
    "plt.legend(loc = 'upper right', fontsize=14)\n",
    "\n",
    "plt.show()\n"
   ]
  },
  {
   "cell_type": "markdown",
   "metadata": {
    "slideshow": {
     "slide_type": "slide"
    }
   },
   "source": [
    "### Exploring the distribution of the param $p$.\n",
    "\n",
    "* What does the distribution of $p_A$ look like\n",
    "\n",
    "  * This ditribution represents the values that most likely generate the observed that data\n",
    "  \n",
    "  * I.e., what  we believe, based on observing the data, the value of $p_A$ could have been\n",
    "  \n",
    "* Our prior belief was that  $p_A$ is any value between $0$ and $1$\n",
    "\n",
    "  * Results show that  some values of $p_1$ occur with more probability that other values.\n",
    "  * We could have encoded our belief in a way that gives us some values more often than others\n",
    " \n",
    "* The resulting distribution is called the posterior distrubution of the param $p_A$\n",
    "\n"
   ]
  },
  {
   "cell_type": "markdown",
   "metadata": {
    "colab_type": "text",
    "id": "GGizV0W7l8oz",
    "slideshow": {
     "slide_type": "slide"
    }
   },
   "source": [
    "### Analyzing the Simulation Results\n",
    "\n",
    "* Histograms shows the probability of $p_A$ to highest around 0.625\n",
    " * This agrees with the likelihood\n",
    " * Show that the value could also be, with non-negligible in other values\n",
    " \n",
    "* In this case, this does not add much to the likelihood. \n",
    "\n",
    "* Imagine however that we have another dataset of signups with for version A \n",
    "  * Out of 9 users tested, 6 signed up for version A."
   ]
  },
  {
   "cell_type": "markdown",
   "metadata": {
    "slideshow": {
     "slide_type": "slide"
    }
   },
   "source": [
    "### Updating our Beliefs\n",
    "\n",
    "* We have already done some work with $p_A$ which led to generate a posterior of $p_A$ (via **rejection sampling**)\n",
    "* Rather than sample $p_A$ uniformly from [0,1], we can sample it from the posterior, which contains only \"accepted\" values that agree with our data.\n",
    "  * In this new round the posterior becomes a prior\n",
    "* We can sample from a histogram from the histogram data (\"Number of Recorded Values for Version A vs Version B\") which represents the posterior. \n",
    "* The new data can then be used to update the probability of our hypothesis. "
   ]
  },
  {
   "cell_type": "code",
   "execution_count": 150,
   "metadata": {
    "slideshow": {
     "slide_type": "slide"
    }
   },
   "outputs": [
    {
     "data": {
      "text/plain": [
       "0.7032831013402725"
      ]
     },
     "execution_count": 150,
     "metadata": {},
     "output_type": "execute_result"
    }
   ],
   "source": [
    "np.random.choice(p_A_recorded)"
   ]
  },
  {
   "cell_type": "code",
   "execution_count": 10,
   "metadata": {
    "slideshow": {
     "slide_type": "slide"
    }
   },
   "outputs": [
    {
     "data": {
      "image/png": "[encoded data removed]",
      "text/plain": [
       "<Figure size 864x576 with 1 Axes>"
      ]
     },
     "metadata": {
      "needs_background": "light"
     },
     "output_type": "display_data"
    }
   ],
   "source": [
    "# import packages\n",
    "import numpy as np\n",
    "import matplotlib.pyplot as plt\n",
    "\n",
    "# Version A\n",
    "n_A = 9        # number of people Version A was tested on\n",
    "obs_A = 6      # observed number of sign ups for Version A\n",
    "p_A_recorded_experiment_2 = []\n",
    "\n",
    "num_of_recorded_vals = 100000\n",
    "\n",
    "for _ in  range(num_of_recorded_vals):\n",
    "  # Sample parameter values p_A and p_B\n",
    "  p_A = np.random.choice(p_A_recorded)\n",
    "\n",
    "  # For each p_A and p_B generate an outcome from the binomal distribution \n",
    "  v_A = np.random.binomial(n_A, p_A)\n",
    "  # Compare generated outcomes to the observed data\n",
    "  if v_A == obs_A:\n",
    "    p_A_recorded_experiment_2.append(p_A)\n",
    "\n",
    "    \n",
    "#Plot data\n",
    "\n",
    "\n",
    "fig = plt.figure(figsize = (12,8)) \n",
    "\n",
    "plt.xlim(0, 1)\n",
    "\n",
    "plt.hist(p_A_recorded,  bins = 20, normed=True, alpha = 0.75, label = \"Experiment 1\", color = \"#A60628\",  edgecolor='black', linewidth=1.2,)\n",
    "plt.hist(p_A_recorded_experiment_2,  bins = 20, normed=True, alpha = 0.75, label = \"Experiment 2\", color = \"#bcadd1\", edgecolor='black', linewidth=1.2)\n",
    "\n",
    "plt.title(\"Number of Recorded Values for Version A vs Version B\")\n",
    "\n",
    "plt.legend(loc = 'upper right', fontsize=14)\n",
    "\n",
    "plt.show()\n"
   ]
  },
  {
   "cell_type": "markdown",
   "metadata": {
    "colab_type": "text",
    "id": "a4kyzxM1Uhud",
    "slideshow": {
     "slide_type": "slide"
    }
   },
   "source": [
    "### **Bayesian Inference**\n",
    "---\n",
    "\n",
    "* Bayesian inference  Allows us to use probability theory to assign probabilities to *parameters*\n",
    "\n",
    "  * Allows  encodes  beliefs in a way that is probabilistic\n",
    "  \n",
    "  * Allows for incorporating new data in a way that leverages prior discoveries\n",
    "\n",
    "\n"
   ]
  },
  {
   "cell_type": "markdown",
   "metadata": {
    "collapsed": true
   },
   "source": [
    "https://theclevermachine.wordpress.com/2012/09/10/rejection-sampling/\n",
    "https://ragrawal.wordpress.com/2014/12/29/rejection-sampling-intuitive-understanding/\n",
    "https://en.wikipedia.org/wiki/Rejection_sampling\n",
    "https://en.wikipedia.org/wiki/Bayesian_inference"
   ]
  }
 ],
 "metadata": {
  "celltoolbar": "Slideshow",
  "colab": {
   "collapsed_sections": [],
   "name": "PP_1_Introduction.ipynb",
   "provenance": [],
   "version": "0.3.2"
  },
  "hide_input": false,
  "kernelspec": {
   "display_name": "Python 3",
   "language": "python",
   "name": "python3"
  },
  "language_info": {
   "codemirror_mode": {
    "name": "ipython",
    "version": 3
   },
   "file_extension": ".py",
   "mimetype": "text/x-python",
   "name": "python",
   "nbconvert_exporter": "python",
   "pygments_lexer": "ipython3",
   "version": "3.7.1"
  }
 },
 "nbformat": 4,
 "nbformat_minor": 1
}
